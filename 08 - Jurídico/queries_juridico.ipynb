{
  "nbformat": 4,
  "nbformat_minor": 0,
  "metadata": {
    "colab": {
      "provenance": []
    },
    "kernelspec": {
      "name": "python3",
      "display_name": "Python 3"
    },
    "language_info": {
      "name": "python"
    }
  },
  "cells": [
    {
      "cell_type": "markdown",
      "source": [
        "# 📊 Repositório de Consultas SQL para Analistas de Dados: **Departamento Juridico**\n",
        "***\n",
        "### **Dicionário de termos:**\n",
        "- *Litígios:* se referem a disputas legais ou controvérsias que são resolvidas em um tribunal ou através de arbitragem. No contexto jurídico,\n",
        "um litígio pode envolver qualquer tipo de conflito legal, como disputas contratuais, questões trabalhistas, violações de direitos autorais, reclamações de consumidores, e mais.\n",
        "Esses processos podem ser civis ou criminais, e geralmente envolvem duas ou mais partes que buscam uma solução legal para o seu desacordo.\n",
        "\n",
        "***\n",
        "\n",
        "-  🔍 Contribuições: Estamos abertos a contribuições da comunidade de analistas de dados! Se você tiver consultas SQL úteis que gostaria de compartilhar ou sugestões para melhorias, sinta-se à vontade para enviar um pull request. Juntos, podemos expandir e aprimorar este repositório para beneficiar toda a comunidade de análise de dados.\n",
        "- 🎯 Sinta-se à vontade para explorar, utilizar e contribuir para este repositório, e que ele possa ser uma ferramenta valiosa em sua jornada como analista de dados!"
      ],
      "metadata": {
        "id": "vjqSg4TxgLfQ"
      }
    },
    {
      "cell_type": "markdown",
      "source": [
        "# 📌 **Número de Litígios por Período**\n",
        "- O \"Número de Litígios por Período\" é uma métrica que contabiliza a quantidade de novos processos legais iniciados contra ou pela empresa durante um intervalo de tempo específico. Essa medida ajuda a entender a frequência com que a empresa se envolve em disputas judiciais, oferecendo insights sobre possíveis questões de conformidade, riscos legais, ou disputas comerciais. Monitorar essa métrica é crucial para a gestão de riscos e para avaliar a estabilidade legal da organização, influenciando decisões estratégicas e operacionais.\n",
        "\n",
        "```sql\n",
        "SELECT EXTRACT(MONTH FROM data_registro) AS mes, COUNT(DISTINCT processo_legal_id) AS TotalLitigios\n",
        "FROM processos\n",
        "WHERE DataInicio BETWEEN '2023-01-01' AND '2023-12-31'\n",
        "GROUP BY 1\n",
        "ORDER BY 1 DESC;\n",
        "```"
      ],
      "metadata": {
        "id": "wIsPj1FbiP0n"
      }
    },
    {
      "cell_type": "markdown",
      "source": [
        "# 📌 **Taxa de Sucesso em Litígios**\n",
        "- A \"Taxa de Sucesso em Litígios\" é uma métrica que indica o percentual de casos legais ganhos pela empresa em relação ao total de casos concluídos em um período específico. Essa taxa fornece uma avaliação da eficácia da estratégia legal da empresa e da competência de sua equipe jurídica. Uma alta taxa de sucesso pode indicar uma sólida preparação de casos e uma boa tomada de decisão em litígios, enquanto uma taxa baixa pode sinalizar a necessidade de revisão nas abordagens legais ou no manejo dos processos judiciais. Esta métrica é essencial para avaliar o desempenho e a eficiência das operações legais da organização.\n",
        "\n",
        "```sql\n",
        "SELECT (SUM(CASE WHEN Resultado = 'Ganho' THEN 1 ELSE 0 END) / COUNT(DISTINCT processo_legal_id)) * 100 AS TaxaSucesso\n",
        "FROM processos\n",
        "WHERE DataFim IS NOT NULL;\n",
        "```"
      ],
      "metadata": {
        "id": "SGP8CC51i6QJ"
      }
    },
    {
      "cell_type": "markdown",
      "source": [
        "# 📌 **Taxa de Litígios Encerrados no Mesmo Ano**\n",
        "- A \"Taxa de Litígios Encerrados no Mesmo Ano\" mensura a porcentagem de processos que foram concluídos no mesmo ano em que foram abertos. Ela permite avaliar a agilidade do time jurídico na resolução de disputas e identificar possíveis gargalos ou atrasos nos processos legais.\n",
        "\n",
        "```sql\n",
        "SELECT\n",
        "  (COUNT(DISTINCT CASE\n",
        "       WHEN EXTRACT(YEAR FROM DataInicio) = EXTRACT(YEAR FROM DataFim)\n",
        "       THEN processo_legal_id\n",
        "   END)\n",
        "   / COUNT(DISTINCT processo_legal_id)) * 100 AS TaxaEncerradosMesmoAno\n",
        "FROM processos\n",
        "WHERE DataFim IS NOT NULL;\n",
        "```"
      ],
      "metadata": {
        "id": "g_hu4govgMlV"
      }
    },
    {
      "cell_type": "markdown",
      "source": [
        "# 📌 **Custo Médio por Litígio**\n",
        "- O \"Custo Médio por Litígio\" é uma métrica que calcula a média dos custos totais associados aos processos judiciais em que a empresa se envolve, incluindo honorários de advogados, taxas judiciais e outros encargos relacionados. Esta métrica fornece uma visão sobre o impacto financeiro dos litígios na empresa e ajuda a avaliar a eficiência e a eficácia da gestão dessas questões legais. Um custo médio elevado por litígio pode indicar processos complexos ou longos, enquanto um custo mais baixo pode refletir uma gestão mais eficiente ou menos litígios complicados. É essencial para o planejamento financeiro e a análise de risco legal.\n",
        "\n",
        "```sql\n",
        "SELECT AVG(CustoTotal) AS CustoMedio\n",
        "FROM processos;\n",
        "```"
      ],
      "metadata": {
        "id": "3aAAMcnZdRvI"
      }
    },
    {
      "cell_type": "markdown",
      "source": [
        "# 📌 **Tempo Médio de Resolução de Casos**\n",
        "- O \"Tempo Médio de Resolução de Casos\" é uma métrica que mede o intervalo médio de tempo entre a data de início e a data de conclusão de processos judiciais ou disputas legais em que a empresa está envolvida. Esta métrica é utilizada para avaliar a eficiência do processo legal, indicando o quão rapidamente a empresa e seus advogados conseguem resolver litígios. Um tempo médio de resolução mais curto pode indicar uma gestão eficaz e ágil dos casos legais, enquanto um tempo mais longo pode sugerir a necessidade de otimizações nos procedimentos ou na estratégia legal. É crucial para o planejamento e para entender a carga de trabalho do departamento jurídico.\n",
        "\n",
        "```sql\n",
        "SELECT AVG(DATEDIFF(DataFim, DataInicio)) AS TempoMedioResolucao\n",
        "FROM processos\n",
        "WHERE DataFim IS NOT NULL;\n",
        "```"
      ],
      "metadata": {
        "id": "HF1pe8ckiaiX"
      }
    },
    {
      "cell_type": "markdown",
      "source": [
        "# 📌 **Processos por Categoria**\n",
        "- \"Processos por Categoria\" é uma métrica que categoriza e quantifica os processos legais em que uma empresa está envolvida, organizando-os por tipo, como trabalhista, civil, regulatório, entre outros. Esta análise ajuda a entender a distribuição dos desafios legais enfrentados pela empresa e permite uma avaliação mais detalhada de áreas que podem requerer atenção especial ou recursos adicionais. Por exemplo, um alto número de casos trabalhistas pode indicar problemas nas práticas de gestão de recursos humanos, enquanto muitos processos regulatórios podem refletir um ambiente operacional complexo. Essa categorização é fundamental para gerenciar riscos e alocar adequadamente os recursos legais.\n",
        "\n",
        "```sql\n",
        "SELECT Tipo, COUNT(DISTINCT processo_legal_id) AS Quantidade\n",
        "FROM processos\n",
        "GROUP BY Tipo\n",
        "ORDER BY 2 DESC;\n",
        "```"
      ],
      "metadata": {
        "id": "z15IBIpRdAJH"
      }
    },
    {
      "cell_type": "markdown",
      "source": [
        "# 📌 **Percentual de Acordos**\n",
        "- O \"Percentual de Acordos\" é uma métrica que indica a proporção de processos legais que são resolvidos por meio de acordos entre as partes envolvidas, antes de chegar a um julgamento formal. Essa taxa é importante para avaliar a disposição da empresa em resolver disputas de maneira amigável e eficiente, potencialmente economizando tempo e recursos que seriam gastos em litígios prolongados. Um alto percentual de acordos pode refletir uma estratégia jurídica proativa e a busca por soluções menos onerosas e mais rápidas, enquanto um percentual baixo pode indicar uma tendência a disputar os casos através de julgamento completo.\n",
        "\n",
        "```sql\n",
        "SELECT\n",
        "  (COUNT(DISTINCT CASE WHEN Resultado = 'Acordo' THEN processo_legal_id END) / COUNT(DISTINCT processo_legal_id)) * 100 AS PercentualAcordos\n",
        "FROM processos\n",
        "WHERE DataFim IS NOT NULL;\n",
        "```"
      ],
      "metadata": {
        "id": "_acq98n6ijvA"
      }
    },
    {
      "cell_type": "markdown",
      "source": [
        "# 📌 **Lista de Contratos Próximos do Vencimento**\n",
        "- A \"Lista de Contratos Próximos do Vencimento\" é uma ferramenta de gerenciamento que identifica contratos cuja data de término está se aproximando. Essa lista é crucial para que as empresas possam agir de forma proativa, seja para preparar a renovação desses contratos, renegociar termos, ou encerrar acordos conforme necessário. Manter essa lista atualizada e monitorá-la regularmente ajuda a evitar interrupções nos serviços ou relações comerciais e garante que as decisões sobre os contratos sejam tomadas com tempo suficiente para uma transição suave.\n",
        "\n",
        "```sql\n",
        "SELECT ContratoID, NomeFornecedor, DataInicio, DataFim\n",
        "FROM contratos\n",
        "WHERE DataFim BETWEEN CURRENT_DATE AND DATE_ADD(CURRENT_DATE, INTERVAL 3 MONTH)\n",
        "ORDER BY DataFim;\n",
        "```"
      ],
      "metadata": {
        "id": "3bw9bLPzhpjX"
      }
    },
    {
      "cell_type": "markdown",
      "source": [
        "# 📌 **Contratos Vencidos e Não Renovados**\n",
        "- \"Contratos Vencidos e Não Renovados\" refere-se à categoria de contratos cujo prazo de validade já expirou, mas que ainda não passaram pelo processo de renovação ou formalização de encerramento. Essa situação pode representar um risco legal ou operacional para a empresa, pois a continuação de serviços ou parcerias sem um contrato válido pode levar a disputas ou perdas financeiras. Identificar esses contratos é crucial para garantir que a empresa tome medidas proativas para renovar ou finalizar formalmente esses acordos, assegurando a conformidade legal e a continuidade dos negócios.\n",
        "\n",
        "```sql\n",
        "SELECT ContratoID, NomeFornecedor, DataInicio, DataFim\n",
        "FROM contratos\n",
        "WHERE DataFim < CURRENT_DATE AND Renovado = 'Não'\n",
        "ORDER BY DataFim;\n",
        "```"
      ],
      "metadata": {
        "id": "XZo_nq1gd9XI"
      }
    },
    {
      "cell_type": "markdown",
      "source": [
        "# 📌 **Resumo dos Contratos por Fornecedor**\n",
        "- O \"Resumo dos Contratos por Fornecedor\" é uma ferramenta de gestão que proporciona uma visão geral dos contratos ativos e encerrados associados a cada fornecedor com quem uma empresa tem relações. Essa visão consolidada ajuda a monitorar e avaliar a extensão e a natureza das relações contratuais com cada fornecedor, facilitando a gestão eficiente dessas parcerias. Ter acesso a um resumo organizado permite às empresas identificar oportunidades para negociações melhores, avaliar o desempenho dos fornecedores, e garantir que as condições contratuais estejam sendo cumpridas, contribuindo para uma melhor estratégia de compras e gestão de fornecedores.\n",
        "\n",
        "```sql\n",
        "SELECT\n",
        "\tNomeFornecedor,\n",
        "\tCOUNT(DISTINCT ContratoID) AS TotalContratos,\n",
        "\tSUM(CASE WHEN DataFim >= CURRENT_DATE THEN 1 ELSE 0 END) AS ContratosAtivos\n",
        "FROM contratos\n",
        "GROUP BY NomeFornecedor;\n",
        "```"
      ],
      "metadata": {
        "id": "BgTet5uyeoHQ"
      }
    },
    {
      "cell_type": "markdown",
      "source": [
        "# 📌 **Detalhes dos Contratos com Cláusulas Específicas**\n",
        "- \"Detalhes dos Contratos com Cláusulas Específicas\" é uma análise focada em identificar e examinar contratos que incluem cláusulas particulares ou não convencionais que requerem atenção especial. Essas cláusulas podem incluir termos de penalidade, exclusividade, renovação automática, ou quaisquer outras condições que possam impor obrigações significativas ou riscos. Este tipo de análise é crucial para a gestão de riscos, pois permite às empresas compreender melhor as obrigações legais, financeiras e operacionais específicas desses contratos e tomar medidas proativas para lidar com elas adequadamente. O objetivo é garantir que a empresa esteja ciente e preparada para qualquer eventualidade que possa surgir dessas cláusulas especiais.\n",
        "\n",
        "```sql\n",
        "SELECT ContratoID, NomeFornecedor, Detalhes\n",
        "FROM contratos\n",
        "WHERE Detalhes LIKE '%penalidade%' OR Detalhes LIKE '%exclusividade%';\n",
        "```"
      ],
      "metadata": {
        "id": "WUsYVVP5e8jY"
      }
    },
    {
      "cell_type": "markdown",
      "source": [
        "# 📌 **Acompanhamento de Alterações Contratuais**\n",
        "- \"Acompanhamento de Alterações Contratuais\" refere-se ao processo de monitoramento e registro de todas as modificações feitas em contratos ao longo do tempo. Esta prática é essencial para manter um registro detalhado das mudanças, incluindo adições, exclusões ou ajustes em termos e condições. O acompanhamento de alterações é crucial para auditorias internas e externas, bem como para garantir a conformidade com as normas regulatórias vigentes. Ele ajuda a assegurar transparência, responsabilidade e integridade no gerenciamento de contratos, fornecendo uma base sólida para revisões e decisões relacionadas a contratos modificados.\n",
        "\n",
        "```sql\n",
        "SELECT ContratoID, DataModificacao, ModificadoPor, DescricaoModificacao\n",
        "FROM historico_modificacoes_contratos\n",
        "ORDER BY DataModificacao DESC;\n",
        "```"
      ],
      "metadata": {
        "id": "O3LZqAr2iAc5"
      }
    }
  ]
}